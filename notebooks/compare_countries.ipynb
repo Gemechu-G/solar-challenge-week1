{
 "cells": [
  {
   "cell_type": "code",
   "execution_count": null,
   "id": "d2525efe",
   "metadata": {},
   "outputs": [],
   "source": [
    "# Imports\n",
    "import pandas as pd\n",
    "import numpy as np\n",
    "import matplotlib.pyplot as plt\n",
    "import seaborn as sns\n",
    "from scipy import stats  # For statistical tests"
   ]
  },
  {
   "cell_type": "code",
   "execution_count": null,
   "id": "a158e045",
   "metadata": {},
   "outputs": [],
   "source": [
    "# Load cleaned datasets\n",
    "countries = {\n",
    "    'Benin': pd.read_csv(\"../data/benin_clean.csv\"),\n",
    "    'Sierra Leone': pd.read_csv(\"../data/sierraleone_clean.csv\"),\n",
    "    'Togo': pd.read_csv(\"../data/togo_clean.csv\")\n",
    "}\n",
    "\n",
    "# Add country labels to each DataFrame\n",
    "for country, df in countries.items():\n",
    "    df['Country'] = country\n",
    "\n",
    "# Combine into one DataFrame for easier plotting\n",
    "combined_df = pd.concat(countries.values())"
   ]
  },
  {
   "cell_type": "code",
   "execution_count": null,
   "id": "a7499634",
   "metadata": {},
   "outputs": [],
   "source": [
    "metrics = ['GHI', 'DNI', 'DHI']\n",
    "plt.figure(figsize=(15, 5))\n",
    "\n",
    "for i, metric in enumerate(metrics, 1):\n",
    "    plt.subplot(1, 3, i)\n",
    "    sns.boxplot(data=combined_df, x='Country', y=metric, palette='viridis')\n",
    "    plt.title(f'{metric} Distribution by Country')\n",
    "    plt.xticks(rotation=45)\n",
    "\n",
    "plt.tight_layout()\n",
    "plt.show()"
   ]
  },
  {
   "cell_type": "code",
   "execution_count": null,
   "id": "e579bc98",
   "metadata": {},
   "outputs": [],
   "source": [
    "# Prepare data for ANOVA\n",
    "ghi_samples = [df['GHI'].dropna() for df in countries.values()]\n",
    "\n",
    "# One-way ANOVA (assumes normality)\n",
    "anova_result = stats.f_oneway(*ghi_samples)\n",
    "print(f\"ANOVA p-value for GHI: {anova_result.pvalue:.4f}\")\n",
    "\n",
    "# Kruskal-Wallis (non-parametric alternative)\n",
    "kruskal_result = stats.kruskal(*ghi_samples)\n",
    "print(f\"Kruskal-Wallis p-value for GHI: {kruskal_result.pvalue:.4f}\")"
   ]
  },
  {
   "cell_type": "code",
   "execution_count": null,
   "id": "86e1b28a",
   "metadata": {},
   "outputs": [],
   "source": [
    "plt.figure(figsize=(8, 4))\n",
    "combined_df.groupby('Country')['GHI'].mean().sort_values().plot(\n",
    "    kind='barh', color=sns.color_palette('viridis', 3))\n",
    "plt.title('Average GHI by Country (Ranked)')\n",
    "plt.xlabel('GHI (W/m²)')\n",
    "plt.show()"
   ]
  }
 ],
 "metadata": {
  "language_info": {
   "name": "python"
  }
 },
 "nbformat": 4,
 "nbformat_minor": 5
}
