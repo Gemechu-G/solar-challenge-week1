{
 "cells": [
  {
   "cell_type": "code",
   "execution_count": null,
   "id": "fc0ddad8",
   "metadata": {},
   "outputs": [],
   "source": [
    "import pandas as pd\n",
    "import matplotlib.pyplot as plt\n",
    "# Load data\n",
    "df = pd.read_csv(\"../data/togo-dapaong_qc.csv\")  # or togo-dapaong_qc.csv\n",
    "\n",
    "# 1. Data Profiling\n",
    "print(\"Missing Values:\\n\", df.isna().sum())\n",
    "print(\"\\nSummary Stats:\\n\", df.describe())\n",
    "\n",
    "# 2. Cleaning (same process as Benin)\n",
    "# ... [your cleaning code here] ...\n",
    "df_clean.to_csv(\"../data/togo_clean.csv\", index=False)\n",
    "\n",
    "# 3. Visualization\n",
    "# ... [your visualization code] ..."
   ]
  },
  {
   "cell_type": "code",
   "execution_count": null,
   "id": "cf5b86a3",
   "metadata": {},
   "outputs": [],
   "source": [
    "# Example cleaning steps\n",
    "df_clean = df.dropna(subset=['GHI', 'DNI', 'DHI'])  # Critical solar metrics\n",
    "df_clean['WSgust'] = df_clean['WSgust'].fillna(df_clean['WSgust'].median())"
   ]
  },
  {
   "cell_type": "code",
   "execution_count": null,
   "id": "852b9f55",
   "metadata": {},
   "outputs": [],
   "source": []
  },
  {
   "cell_type": "code",
   "execution_count": null,
   "id": "133a5ba3",
   "metadata": {},
   "outputs": [],
   "source": [
    "# Time series of GHI\n",
    "df_clean.set_index('Timestamp')['GHI'].plot(figsize=(12,4), title='GHI Trend')\n",
    "plt.show()\n",
    "\n",
    "# Correlation heatmap\n",
    "sns.heatmap(df_clean[['GHI','DNI','DHI','Tamb']].corr(), annot=True)"
   ]
  }
 ],
 "metadata": {
  "language_info": {
   "name": "python"
  }
 },
 "nbformat": 4,
 "nbformat_minor": 5
}
